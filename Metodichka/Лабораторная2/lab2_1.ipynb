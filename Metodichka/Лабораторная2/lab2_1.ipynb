{
 "cells": [
  {
   "cell_type": "code",
   "execution_count": null,
   "outputs": [],
   "source": [],
   "metadata": {
    "collapsed": false,
    "pycharm": {
     "name": "#%%\n"
    }
   }
  },
  {
   "cell_type": "markdown",
   "source": [
    "# Лабораторная работа 2. Цифровая обработка изображений.\n",
    "\n",
    "В этой работе рассматриваются различные виды цифровой обработки изображений.\n",
    "\n",
    "Цель лабораторной работы:\n",
    "\n",
    "# 1. OpenCV\n",
    "Работать с изображениями удобнее всего при помощи opencv-python. OpenCV -- реализация библиотеки алгоритмов компьютерного зрения, обработки изображений и численных алгоритмов общего назначения. opencv-python является оберткой реализации Оригинальной библиотеки OpenCV, написанной на языке C++, что делает его таким же быстрым. Все структуры массивов opencv-python (далее просто OpenCV) преобразуются в массивы Numpy и из них. Это также облегчает интеграцию с другими библиотеками, использующими Numpy, такими как SciPy и Matplotlib.\n",
    "\n",
    "OpenCV предлагает широкий набор алгоритмов и состоит из следующих модулей:\n",
    "- core -- основная функциональность. Включает в себя базовые структуры, вычисления (математические функции, генераторы случайных чисел) и линейную алгебру и пр.;\n",
    "- imgproc -- обработка изображений (фильтрация, геометрические преобразования, преобразование цветовых пространств и т. д.);\n",
    "- imgcodecs -- чтение и запись файлов изображений;\n",
    "- videoio -- чтение и запись видео или последовательности изображений;\n",
    "- highgui -- создание простого пользовательского интерфейса и обработка событий мыши и клавиатуры;\n",
    "- video -- обработка видео;\n",
    "- calib3d -- калибровка камер и 3D реконструкция;\n",
    "- features2d -- работа с особыми точками;\n",
    "- objdetect -- обнаружение объектов;\n",
    "- dnn -- глубокие нейронные сети;\n",
    "- ml -- машинное обучение;\n",
    "- stitching -- склейка изображений;\n",
    "и других.\n",
    "\n",
    "Документацию по OpenCV-Python v4.5.5 можно найти [здесь](https://docs.opencv.org/4.5.5/d6/d00/tutorial_py_root.html)\n",
    "Документация по OpenCV разных версий можно найти [здесь](https://docs.opencv.org/)"
   ],
   "metadata": {
    "collapsed": false
   }
  },
  {
   "cell_type": "markdown",
   "source": [
    "## 1.1 Установка и подключение opencv-python\n",
    "установку пакета opencv-python можно осуществить в терминале командой:\n",
    "pip3 install opencv-python"
   ],
   "metadata": {
    "collapsed": false
   }
  },
  {
   "cell_type": "markdown",
   "source": [
    "Подключение библиотеки:"
   ],
   "metadata": {
    "collapsed": false
   }
  },
  {
   "cell_type": "code",
   "execution_count": null,
   "outputs": [],
   "source": [
    "import numpy as np\n",
    "import cv2 as cv"
   ],
   "metadata": {
    "collapsed": false,
    "pycharm": {
     "name": "#%%\n"
    }
   }
  },
  {
   "cell_type": "markdown",
   "source": [
    "## 1.2. Загрузка и просмотр изображений"
   ],
   "metadata": {
    "collapsed": false
   }
  },
  {
   "cell_type": "code",
   "execution_count": null,
   "outputs": [],
   "source": [
    "image = cv.imread('../images/lenna.png')\n",
    "cv.imshow(\"Image\", image)\n",
    "cv.waitKey(0)\n",
    "cv.destroyAllWindows()"
   ],
   "metadata": {
    "collapsed": false,
    "pycharm": {
     "name": "#%%\n"
    }
   }
  },
  {
   "cell_type": "markdown",
   "source": [
    "Без операций cv.waitKey(0) и cv.destroyAllWindows() окно может закрываться не корректно."
   ],
   "metadata": {
    "collapsed": false
   }
  },
  {
   "cell_type": "markdown",
   "source": [
    "Вынесем этот код в функцию show_image() и display_image() в файл \"utility/util.py\". Подключим созданные файлы к текущему коду:"
   ],
   "metadata": {
    "collapsed": false
   }
  },
  {
   "cell_type": "code",
   "execution_count": null,
   "outputs": [],
   "source": [
    "from utility import util"
   ],
   "metadata": {
    "collapsed": false,
    "pycharm": {
     "name": "#%%\n"
    }
   }
  },
  {
   "cell_type": "markdown",
   "source": [
    "Еще одним способом отображения изображений является использование библиотеки matplotlib подключим ее и выведем тестовое изображение:"
   ],
   "metadata": {
    "collapsed": false
   }
  },
  {
   "cell_type": "code",
   "execution_count": null,
   "outputs": [],
   "source": [
    "%matplotlib inline\n",
    "import matplotlib.pyplot as plt\n",
    "\n",
    "#%matplotlib inline позволяет выводить графики matplotlib в Jupyter\n",
    "plt.imshow(image)"
   ],
   "metadata": {
    "collapsed": false,
    "pycharm": {
     "name": "#%%\n"
    }
   }
  },
  {
   "cell_type": "markdown",
   "source": [
    "По умолчанию, при чтении файла изображения методом cv.imread() изображение находится в цветовом пространстве не RGB (как все привыкли), а BGR, т.е. цвета идут в другом порядке. Эта особенность является причиной не корректного вывода изображения при помощи matplotlib, т.к. он выводит изображение в цветовом пространстве RGB.\n",
    "Чтобы поменять цветовое пространство на RGB можно воспользоваться методом:\n",
    "`rgb_image = cv2.cvtColor(image, cv2.COLOR_BGR2RGB)`\n",
    "\n",
    "Проверим этот факт загрузив изображение с пикселями синего цвета:"
   ],
   "metadata": {
    "collapsed": false
   }
  },
  {
   "cell_type": "code",
   "execution_count": null,
   "outputs": [],
   "source": [
    "blue_image = util.display_image('../images/blue_image.png')"
   ],
   "metadata": {
    "collapsed": false,
    "pycharm": {
     "name": "#%%\n"
    }
   }
  },
  {
   "cell_type": "markdown",
   "source": [
    "Выведем пиксел с координатами (0,0) изображения в виде массива NumPy:"
   ],
   "metadata": {
    "collapsed": false
   }
  },
  {
   "cell_type": "code",
   "execution_count": null,
   "outputs": [],
   "source": [
    "blue_image[0, 0, :]"
   ],
   "metadata": {
    "collapsed": false,
    "pycharm": {
     "name": "#%%\n"
    }
   }
  },
  {
   "cell_type": "markdown",
   "source": [
    "Действительно, пиксель имеют максимальную яркость только по первому каналу. Значит первый канал хранит синий цвет.\n",
    "Преобразуем цветовое пространство BGR в RGB:"
   ],
   "metadata": {
    "collapsed": false
   }
  },
  {
   "cell_type": "code",
   "execution_count": null,
   "outputs": [],
   "source": [
    "rgb_blue_image = cv.cvtColor(blue_image, cv.COLOR_BGR2RGB)\n",
    "rgb_blue_image[0, 0, :]"
   ],
   "metadata": {
    "collapsed": false,
    "pycharm": {
     "name": "#%%\n"
    }
   }
  },
  {
   "cell_type": "markdown",
   "source": [
    "Проделаем то же самое для тестового изображения:"
   ],
   "metadata": {
    "collapsed": false
   }
  },
  {
   "cell_type": "code",
   "execution_count": null,
   "outputs": [],
   "source": [
    "rgb_image = cv.cvtColor(image, cv.COLOR_BGR2RGB)\n",
    "plt.imshow(rgb_image)"
   ],
   "metadata": {
    "collapsed": false,
    "pycharm": {
     "name": "#%%\n"
    }
   }
  },
  {
   "cell_type": "markdown",
   "source": [
    "## 1.3. Простые операции с изображениями"
   ],
   "metadata": {
    "collapsed": false
   }
  },
  {
   "cell_type": "markdown",
   "source": [
    "### 1.3.1 Кадрирование или ROI\n",
    "**Кадрирование** -- усечение изображения с целью выделения объекта интереса.\n",
    "**ROI** (Region Of Interest, объект интереса) -- границы изображения объекта интереса.\n",
    "Поскольку цветное изображение является 3-х мерным массивом NumPy, то кадрировать (т.е. обрезать) такое изображение можно при помощи срезов:"
   ],
   "metadata": {
    "collapsed": false
   }
  },
  {
   "cell_type": "code",
   "execution_count": null,
   "outputs": [],
   "source": [
    "ROI = (182, 162, 220, 240)  #(x0, y0, height, width)\n",
    "cropped_image = rgb_image[ROI[1]:ROI[1] + ROI[3], ROI[0]:ROI[0] + ROI[2]]\n",
    "plt.imshow(cropped_image)"
   ],
   "metadata": {
    "collapsed": false,
    "pycharm": {
     "name": "#%%\n"
    }
   }
  },
  {
   "cell_type": "markdown",
   "source": [
    "### 1.3.2 Изменение размера изображения\n",
    "\n"
   ],
   "metadata": {
    "collapsed": false
   }
  },
  {
   "cell_type": "code",
   "execution_count": null,
   "outputs": [],
   "source": [
    "scale_percent = 20  # Процент от изначального размера\n",
    "width = int(rgb_image.shape[1] * scale_percent / 100)\n",
    "height = int(rgb_image.shape[0] * scale_percent / 100)\n",
    "dim = (width, height)\n",
    "resized_image = cv.resize(rgb_image, dim, interpolation=cv.INTER_AREA)\n",
    "plt.imshow(resized_image)"
   ],
   "metadata": {
    "collapsed": false,
    "pycharm": {
     "name": "#%%\n"
    }
   }
  },
  {
   "cell_type": "markdown",
   "source": [
    "### 1.3.3 Поворот изображения\n",
    "\n",
    "Вращение изображения – это одно из аффинных преобразований. Его удобно определять матрицей перехода. Подробнее  стоит почитать в статье [Матрица перехода — Википедия (wikipedia.org)](https://ru.wikipedia.org/wiki/Матрица_перехода). В случае вращения матрица перехода вычисляется функцией cv.getRotationMatrix2D(center, angle, scale), где center и angle – координаты центра и угол вращения, а scale – коэффициент масштабирования. Справку по вращению изображений и другим геометрическим трансформациям можно посмотреть в [документации](https://docs.opencv.org/3.4/da/d54/group__imgproc__transform.html)"
   ],
   "metadata": {
    "collapsed": false
   }
  },
  {
   "cell_type": "code",
   "execution_count": null,
   "outputs": [],
   "source": [
    "(h, w, d) = rgb_image.shape\n",
    "angle = 45\n",
    "scale = 1.0\n",
    "center = (w // 2, h // 2)\n",
    "M = cv.getRotationMatrix2D(center, angle, scale)\n",
    "rotated = cv.warpAffine(rgb_image, M, (w, h))\n",
    "plt.imshow(rotated)"
   ],
   "metadata": {
    "collapsed": false,
    "pycharm": {
     "name": "#%%\n"
    }
   }
  },
  {
   "cell_type": "markdown",
   "source": [
    "### 1.3.4 Рисование примитивов на изображении:\n",
    "- cv.line(image, startPoint, endPoint, rgb_color, thickness)\n",
    "- cv.rectangle(image, topLeft, bottomRight, rgb_color, thickness)\n",
    "- cv.circle(image, center, radius, rgb_color, thickness)\n",
    "- cv.ellipse(image, center, axes, angle, startAngle, endAngle, rgb_color, thickness)\n",
    "\n",
    "где:\n",
    "- image -- изображение\n",
    "- startPoint, endPoint -- координаты начальной и конечной точек;\n",
    "- rgb_color -- код цвета в формате rgb координат (red, green, blue). red, green, blue ∈ [0, 255];\n",
    "- thickness -- толщина линии в пикселях;\n",
    "- center -- координаты центра окружности или эллипса;\n",
    "- topLeft, bottomRight -- координаты верхней левой и нижней правой точек прямоугольника, соответственно."
   ],
   "metadata": {
    "collapsed": false
   }
  },
  {
   "cell_type": "code",
   "execution_count": null,
   "outputs": [],
   "source": [
    "copy_image = rgb_image.copy()\n",
    "\n",
    "# рисование линии\n",
    "cv.line(copy_image, (0, 0), (511, 511), (255, 0, 0), 5)\n",
    "# => Diagonal red line with thickness of 5 px\n",
    "\n",
    "# Draw a rectangle using cv2.rectangle(image, topLeft, bottomRight, rgb, thinkness)\n",
    "cv.rectangle(copy_image, (384, 0), (510, 128), (0, 255, 0), 3)\n",
    "# => Green rectangle with thickness of 3 px\n",
    "\n",
    "# Draw a circle using cv2.circle(image, center, radius, rgb, thinkness)\n",
    "cv.circle(copy_image, (447, 63), 63, (0, 0, 255), -1)\n",
    "# => Blue filled circle(note that the thinkness is -1)\n",
    "\n",
    "# Draw a ellipse using cv2.ellipse(image, center, axes, angle, startAngle, endAngle, rgb, thinkness)\n",
    "cv.ellipse(copy_image, (256, 256), (100, 50), -45, 0, 180, (255, 0, 0), -1)\n",
    "# => Red wide down-half ellipse\n",
    "\n",
    "plt.imshow(copy_image)"
   ],
   "metadata": {
    "collapsed": false,
    "pycharm": {
     "name": "#%%\n"
    }
   }
  },
  {
   "cell_type": "markdown",
   "source": [
    "###1.3.5 Наложение текста на изображение"
   ],
   "metadata": {
    "collapsed": false
   }
  },
  {
   "cell_type": "code",
   "execution_count": null,
   "outputs": [],
   "source": [
    "# Put some text using cv2.putText(image, text, bottomLeft, fontType, fontScale, rgb, thinkness, lineType)\n",
    "copy_image = rgb_image.copy()\n",
    "font = cv.FONT_HERSHEY_COMPLEX\n",
    "cv.putText(rgb_image, 'OpenCV', (10, 500), font, 4, (255, 255, 255), 10, cv.LINE_AA)\n",
    "# => White 'OpenCV' text at the bottom\n",
    "\n",
    "plt.imshow(rgb_image)"
   ],
   "metadata": {
    "collapsed": false,
    "pycharm": {
     "name": "#%%\n"
    }
   }
  },
  {
   "cell_type": "markdown",
   "source": [
    "## 1.4 Цветовые модели\n",
    "\n",
    "Цветные цифровые изображения представляют собой совокупность трех цветовых плоскостей, каждая из которых характеризует одну независимую составляющую цвета, представленную в том же формате, что и обычное 8-битное полутоновое изображение."
   ],
   "metadata": {
    "collapsed": false
   }
  },
  {
   "cell_type": "markdown",
   "source": [
    "### 1.4.1 Цветовая модель RGB\n",
    "\n",
    "RGB (Red, Green, Blue - красный, зеленый, синий) - цветовая модель, описывающая способ кодирования цвета для цветовоспроизведения с помощью трёх цветов, которые принято называть основными. Выбор основных цветов обусловлен особенностями физиологии восприятия цвета сетчаткой человеческого глаза. Сетчатка глаза имеет три вида рецепторов (колбочек), ответственных за цветное зрение. Можно считать, что каждый вид колбочек даёт свой отклик на определённую длину волны видимого спектра.\n",
    " Система координат RGB - куб с началом отсчета ⟨0,0,0⟩, соответствующим черному цвету. Максимальное значение RGB - ⟨255,255,255⟩ соответствует белому цвету.\n",
    "\n",
    "<img src=\"../content/RGB_color_cube.png\" width=\"800\"/>\n",
    "\n",
    "В модели RGB не разделены яркостная и оттеночная компоненты цвета, здесь легко указать яркости для одного из основных цветов, но затруднительно указать оттенок с требуемым цветовым тоном (например, телесным) и насыщенностью."
   ],
   "metadata": {
    "collapsed": false
   }
  },
  {
   "cell_type": "markdown",
   "source": [
    "### 1.4.2 Цветовые модели HSV и HSI\n",
    "\n",
    " Цветовая модель HSV (Hue, Saturation, Value - цветовой тон, насыщенность, мера яркости) - модель, ориентированная на человека и обеспечивающая возможность явного задания требуемого оттенка цвета. Среди прочих используемых в настоящее время моделей, эта модель отражает физические свойства цвета и наиболее точно соответствует способу восприятия цвета человеческим глазом.\n",
    " Оттенок цвета (H) - это длина световой волны, отраженной или прошедшей через объект. Насыщенность (S) характеризует степень, уровень выражения оттенка цвета. Она определяет соотношение серого цвета и выбранного оттенка и выражается в долях от 0 (серый) до 1 (полностью насыщенный). Мера яркости (V) характеризует интенсивность цвета, поэтому она измеряется в диапазоне от 0 (черный) до 1 (белый). При увеличении яркости цвет становится более светлым (белым). Составляющая V является нелинейной, что близко соответствует восприятию человеком светлых и темных цветов.\n",
    "\n",
    "<img src=\"../content/HSV-color-visualization.png\" width=\"300\"/>\n",
    "\n",
    "С точки зрения обработки изображений цветовое пространство удобно тем, что позволяет непосредственно оперировать интенсивностью (яркостью) и цветом (тоном) пикселя.\n",
    "\n",
    "Существует также цветовая модель HSL (hue, saturation, lightness) или HSI (hue, saturation, intensity) , которая строится по такому же принципу, что и модель HSV, но отличающаяся кодированием цвета пикселя и, соответственно, формулами преобразования из цветового пространства RGB в HSI/HSV и обратно.\n",
    "\n",
    "**HSV vs. HSL**\n",
    "Представление **HSL** моделирует то, как различные краски смешиваются вместе, чтобы создать цвет в реальном мире. Полностью насыщенные цвета размещаются вокруг круга при значении светлоты 1/2, при этом значение светлоты 0 или 1 соответствует полностью черному или белому соответственно. Между тем, представление HSV моделирует, как цвета появляются при свете. Разница между HSL и HSV заключается в том, что цвет с максимальной светлотой в HSL является чисто белым, но цвет с максимальным значением / яркостью в HSV аналогичен освещению белого света на цветном объекте (например, яркое белый свет на красный объект заставляет объект по-прежнему казаться красным, просто ярче и интенсивнее, в то время как тусклый свет на красный объект заставляет объект казаться темнее и менее ярким).\n",
    "\n",
    "Наглядно разницу между HSV и HSL можно увидеть на изображениях визуализации цветовых пространств:\n",
    "\n",
    "<img src=\"../content/HSL vs HSV.png\" width=\"600\"/>\n",
    "\n",
    "Подробнее про различия HSL и HSV моделей можно прочитать [здесь](https://en.wikipedia.org/wiki/HSL_and_HSV)\n",
    "\n",
    "Алгоритмы преобразования из RGB в HSV и наоборот можно посмотреть [здесь](https://ru.wikipedia.org/wiki/HSV_(%D1%86%D0%B2%D0%B5%D1%82%D0%BE%D0%B2%D0%B0%D1%8F_%D0%BC%D0%BE%D0%B4%D0%B5%D0%BB%D1%8C))\n",
    "\n",
    "Алгоритмы преобразования из RGB в HSL и наоборот можно посмотеть [здесь](https://ru.wikipedia.org/wiki/HSL)\n",
    "\n",
    "**В OpenCV есть готовый метод преобразования изображений из одних цветовых моделей в другие:**\n",
    "`cv.cvtColor(image, ColorConversionType)`\n",
    "Где ColorConversionType - тип преобразования из одной цветовой модели в другую:\n",
    "cv.COLOR_BGR2RGB - преобразование из BGR в RGB\n",
    "cv.COLOR_RGB2BGR - преобразование из RGB в BGR\n",
    "cv.COLOR_BGR2GRAY - преобразование из BGR в GRAY\n",
    "cv.COLOR_RGB2GRAY - преобразование из RGB в GRAY\n",
    "cv.COLOR_GRAY2RGB - преобразование из GRA в RGB\n",
    "cv.COLOR_GRAY2BGR - преобразование из GRA в BGR\n",
    "cv.COLOR_HSV2RGB - преобразование из HSV в RGB\n",
    "cv.COLOR_HLS2RGB - преобразование из HLS в RGB\n",
    "cv.COLOR_RGB2HSV - преобразование из RGB в HSV\n",
    "cv.COLOR_RGB2HLS - преобразование из RGB в HLS\n",
    "\n",
    "Полный список типов конвертации можно посмотреть в [документации](https://docs.opencv.org/3.4/d8/d01/group__imgproc__color__conversions.html)\n"
   ],
   "metadata": {
    "collapsed": false
   }
  },
  {
   "cell_type": "markdown",
   "source": [
    "# 2. Гистограммная обработка.\n",
    "\n",
    "## 2.1 Гистограммная обработка изображений.\n",
    "\n",
    "### 2.1.1 Построение и визуализация гистограммы.\n",
    "Гистограмма характеризует частоту встречаемости на изображении пикселей одинаковой яркости и позволяет анализировать яркостную составляющую изображения. Гистограмма позволяет оценить и необходимым образом изменить яркость изображения, его контраст, площадь изображения, которую занимают светлые, темные и другие яркостные элементы, и, наконец, определить, где на плоскости изображения находятся отдельные области (объекты), соответствующие тем или иным диапазонам значений яркости.\n",
    "\n",
    "Документацию по гистограммам в OpenCV читайте [здесь](https://docs.opencv.org/4.x/d1/db7/tutorial_py_histogram_begins.html)\n"
   ],
   "metadata": {
    "collapsed": false
   }
  },
  {
   "cell_type": "code",
   "execution_count": null,
   "outputs": [],
   "source": [
    "%reset"
   ],
   "metadata": {
    "collapsed": false,
    "pycharm": {
     "name": "#%%\n"
    }
   }
  },
  {
   "cell_type": "code",
   "execution_count": null,
   "outputs": [],
   "source": [
    "%matplotlib inline\n",
    "import matplotlib.pyplot as plt\n",
    "import cv2 as cv\n",
    "import numpy as np\n",
    "from utility import util\n",
    "\n",
    "# Изменим стандартный размер графиков matplotlib\n",
    "plt.rcParams[\"figure.figsize\"] = [6, 4]"
   ],
   "metadata": {
    "collapsed": false,
    "pycharm": {
     "name": "#%%\n"
    }
   }
  },
  {
   "cell_type": "code",
   "execution_count": null,
   "outputs": [],
   "source": [
    "image1 = cv.imread('../images/lenna_bad.png')\n",
    "image2 = cv.imread('../images/winter_cat.png')\n",
    "rgb_image1 = cv.cvtColor(image1, cv.COLOR_BGR2RGB)\n",
    "rgb_image2 = cv.cvtColor(image2, cv.COLOR_BGR2RGB)\n",
    "gray_image1 = cv.cvtColor(image1, cv.COLOR_BGR2GRAY)\n",
    "gray_image2 = cv.cvtColor(image2, cv.COLOR_BGR2GRAY)\n",
    "\n",
    "channels = [0]\n",
    "histSize = [256]\n",
    "range = [0, 256]\n",
    "\n",
    "hist1 = cv.calcHist([gray_image1], channels, None, histSize, range)\n",
    "hist2 = cv.calcHist([gray_image2], channels, None, histSize, range)\n",
    "\n",
    "gs = plt.GridSpec(2, 2)\n",
    "plt.figure(figsize=(10, 8))\n",
    "plt.subplot(gs[0])\n",
    "plt.imshow(gray_image1, cmap='gray')\n",
    "plt.subplot(gs[1])\n",
    "plt.imshow(gray_image2, cmap='gray')\n",
    "plt.subplot(gs[2])\n",
    "plt.hist(gray_image1.reshape(-1), 256, range)\n",
    "plt.subplot(gs[3])\n",
    "plt.hist(gray_image2.reshape(-1), 256, range)\n",
    "plt.show()\n"
   ],
   "metadata": {
    "collapsed": false,
    "pycharm": {
     "name": "#%%\n"
    }
   }
  },
  {
   "cell_type": "markdown",
   "source": [
    "Помните, что эта гистограмма рисуется для изображения в градациях серого, а не для цветного изображения. Левая область гистограммы показывает количество более темных пикселей в изображении, а правая область показывает количество более ярких пикселей. Из первой гистограммы можно видеть, что яркость пикселей распределена достаточно равномерно, в отличие от гистограммы второго изображения, где преобладают яркие пиксели."
   ],
   "metadata": {
    "collapsed": false
   }
  },
  {
   "cell_type": "markdown",
   "source": [
    "Другие способы визуализации гистограмм:\n",
    "1. С использованием Matplotlib"
   ],
   "metadata": {
    "collapsed": false
   }
  },
  {
   "cell_type": "code",
   "execution_count": null,
   "outputs": [],
   "source": [
    "plt.hist(gray_image1.reshape(-1), 256, range)\n",
    "plt.show()"
   ],
   "metadata": {
    "collapsed": false,
    "pycharm": {
     "name": "#%%\n"
    }
   }
  },
  {
   "cell_type": "markdown",
   "source": [
    "2. С использованием OpenCV можно визуализировать гистограммы по каналам."
   ],
   "metadata": {
    "collapsed": false
   }
  },
  {
   "cell_type": "code",
   "execution_count": null,
   "outputs": [],
   "source": [
    "histSize = [256]\n",
    "range = [0, 256]\n",
    "\n",
    "\n",
    "def plot_rgb_hist(image, histSize, range):\n",
    "    histSize = [256]\n",
    "    range = [0, 256]\n",
    "    for i, col in enumerate(['b', 'g', 'r']):\n",
    "        hist = cv.calcHist([image], [i], None, histSize, range)\n",
    "        plt.plot(hist, color=col)\n",
    "        plt.xlim(range)\n",
    "\n",
    "\n",
    "plot_rgb_hist(image1, histSize, range)\n",
    "plt.show()"
   ],
   "metadata": {
    "collapsed": false,
    "pycharm": {
     "name": "#%%\n"
    }
   }
  },
  {
   "cell_type": "markdown",
   "source": [
    "По графику видно, что красный цвет преобладает."
   ],
   "metadata": {
    "collapsed": false
   }
  },
  {
   "cell_type": "markdown",
   "source": [
    "### 2.1.2 Яркостные (гистограммные) преобразования\n",
    "Яркостные преобразования цифровых изображений часто называют *гистограммными*, так как при этом, во-первых, изменяется гистограмма изображения, во-вторых, вид функции преобразования (параметры преобразования) часто определяются *адаптивно*, на основании ранее собранной гистограммы исходного изображения.\n",
    "В случае дискретных цифровых изображений функция отображения яркости принимает вид так называемой *таблицы отображения яркости* ***LUT (Look-Up-Table, просмотровой таблицы).*** Гистограммная обработка изображения при помощи таблицы отображения яркости осуществляется следующим образом:\n",
    "$$\n",
    "{\\rm Im}[i,j] = {\\rm LUT[Im}[i,j]],\n",
    "$$\n",
    "где Im$[i,j]$ -  пиксел изображения с координатами $\\langle i,j \\rangle$, а LUT -  целочисленный массив размера $256$ элементов для $8$-битного изображения или длиной $65 536$ элементов для $16$-битного изображения.\n",
    "При этом LUT может задаваться:\n",
    "- произвольной таблицей отображения, формируемой пользователем непосредственно;\n",
    "- некоторой математической функцией, выбранной из заданного набора функций;\n",
    "- адаптивно по гистограмме данного анализируемого изображения.\n",
    "\n",
    "\n",
    "Рассмотрим несколько примеров, но сначала подготовим тестовое изображение, но слегка ухудшенное (увеличена яркость и уменьшена контрастность).\n",
    "\n",
    "#### 2.1.2.1 Инверсия\n",
    "Простейшим примером гистограммной обработки изображений является *инвертирование яркости*, определяемое зависимостью вида\n",
    "$$\n",
    "{\\rm LUT}[i] = 255 - i.\n",
    "$$\n",
    "В результате инвертирования изображения получается его *негатив*. При этом темные области становятся светлыми, и наоборот.\n"
   ],
   "metadata": {
    "collapsed": false
   }
  },
  {
   "cell_type": "code",
   "execution_count": null,
   "outputs": [],
   "source": [
    "lut = lambda i: 255 - i\n",
    "invert_image = lut(gray_image1)\n",
    "plt.imshow(invert_image, cmap='gray')"
   ],
   "metadata": {
    "collapsed": false,
    "pycharm": {
     "name": "#%%\n"
    }
   }
  },
  {
   "cell_type": "markdown",
   "source": [
    "#### 2.1.2.2 Гамма-коррекция\n",
    "Гамма-коррекция --  степенной закон вида\n",
    "$$\n",
    "{\\rm LUT}[i] = r(i)^{\\gamma },\n",
    "$$\n",
    "где $r$ -  коэффициент контраста, а $\\gamma $ -  степень преобразования.\n",
    "Такие преобразования известны в области аналогового телевидения как процедура $\\it{гамма-коррекции}$. Легко увидеть, что изменяя параметр $\\gamma $, мы можем получать LUT различного типа. При $\\gamma =1$ преобразование будет линейным, при $\\gamma < 1$ предпочтение будет отдаваться более светлым цветам (на них придется большая часть диапазона), при $\\gamma > 1$ предпочтение будет отдаваться более темным цветам. Такие преобразования используются для \"выравнивания\" яркости изображений, получаемых на электронно-лучевых трубках (ЭЛТ)."
   ],
   "metadata": {
    "collapsed": false
   }
  },
  {
   "cell_type": "code",
   "execution_count": null,
   "outputs": [],
   "source": [
    "gamma = 1.05\n",
    "lut = lambda i: i ** gamma\n",
    "result_image = lut(gray_image1)\n",
    "\n",
    "gs = plt.GridSpec(2, 2)\n",
    "plt.figure(figsize=(10, 8))\n",
    "plt.subplot(gs[0])\n",
    "plt.imshow(gray_image1, cmap='gray')\n",
    "plt.subplot(gs[1])\n",
    "plt.imshow(result_image, cmap='gray')\n",
    "plt.subplot(gs[2])\n",
    "plt.hist(gray_image1.reshape(-1), 256, range)\n",
    "plt.subplot(gs[3])\n",
    "plt.hist(result_image.reshape(-1), 256, range)\n",
    "plt.show()"
   ],
   "metadata": {
    "collapsed": false,
    "pycharm": {
     "name": "#%%\n"
    }
   }
  },
  {
   "cell_type": "markdown",
   "source": [
    "#### 2.1.2.3 Адаптивная коррекция\n",
    "\n",
    "Рассмотрим теперь простейший способ *адаптивной* (то есть не наперед заданной, а\n",
    "зависящей от данного конкретного изображения) гистограммной обработки.\n",
    "\n",
    "##### 2.1.2.3.1 Яркостная нормализация\n",
    "Начнем с линейной адаптивной процедуры, называемой *яркостной нормализацией* изображения и\n",
    "описываемой следующей математической зависимостью:\n",
    "$$\n",
    "{\\rm LUT}[i] = 255 \\cdot  \\frac {i - {I_{\\min}}} {I_{\\max} - I_{\\min}}.\n",
    "$$\n",
    "$I_{\\min} = \\min\\limits_{x,y} \\textrm{Im} [x,y]$, $I_{\\max} = \\max\\limits_{x, y} \\textrm{Im} [x,y]$.\n",
    "Значения $I_{\\min}$ и $I_{\\max}$ определяются как минимальный и максимальный номера ненулевых ячеек гистограммы Hist(Im).\n",
    "Данное преобразование равномерно \"растягивает\" диапазон яркостей\n",
    "[$I_{\\min}, I_{\\max}$], присутствующих на исходном изображении Im,\n",
    "на максимально возможный диапазон $[0, 255]$. Это способствует максимально\n",
    "возможному улучшению контраста изображения без потери каких-либо различий\n",
    "элементов яркости исходного изображения.\n"
   ],
   "metadata": {
    "collapsed": false
   }
  },
  {
   "cell_type": "code",
   "execution_count": null,
   "outputs": [],
   "source": [
    "lut = lambda i: 255 * ((i - np.min(i)) / (np.max(i) - np.min(i)))\n",
    "result_image = lut(gray_image1)\n",
    "\n",
    "gs = plt.GridSpec(2, 2)\n",
    "plt.figure(figsize=(10, 8))\n",
    "plt.subplot(gs[0])\n",
    "plt.imshow(gray_image1, cmap='gray')\n",
    "plt.subplot(gs[1])\n",
    "plt.imshow(result_image, cmap='gray')\n",
    "plt.subplot(gs[2])\n",
    "plt.hist(gray_image1.reshape(-1), 256, range)\n",
    "plt.subplot(gs[3])\n",
    "plt.hist(result_image.reshape(-1), 256, range)\n",
    "plt.show()"
   ],
   "metadata": {
    "collapsed": false,
    "pycharm": {
     "name": "#%%\n"
    }
   }
  },
  {
   "cell_type": "markdown",
   "source": [
    "##### 2.1.2.3.2 Эквализация изображения\n",
    "\n",
    "Другой популярной процедурой адаптивной гистограммной обработки изображения является *эквализация* изображения. Эквализация также отображает реальный яркостный диапазон данного изображения (от минимального до максимального значения интенсивности) на диапазон [0, 255]. При этом обеспечивается \"выравнивание\" числа пикселов изображения, имеющих различные значения яркости. Математическая форма данного преобразования имеет вид\n",
    "$$\n",
    "{\\rm LUT}[i] = 255 \\cdot  \\frac{\\sum\\limits_{j=1}^i \\textrm{Hist}[j]} {\\sum\\limits_{j=1}^{255} \\textrm{Hist}[j]},\n",
    "$$\n",
    "В тех случаях, когда в диапазоне [Imin,Imax] более или менее равномерно присутствуют все градации, визуальный эффект от эквализации трудно отличить от эффекта нормализации. Однако в случае, когда значительная часть градаций яркости отсутствует, эквализация позволяет более равномерно использовать диапазон [0,255] для более контрастного отображения присутствующих на изображении градаций. Визуально это выглядит как \"проявление\" большего количества ранее не заметных на изображении деталей и контуров.\n",
    "\n",
    "**Задание: реализуйте данный вид эквализации самостоятельно**"
   ],
   "metadata": {
    "collapsed": false
   }
  },
  {
   "cell_type": "markdown",
   "source": [
    "### 2.1.3 OpenCV CLAHE (Contrast Limited Adaptive Histogram Equalization)\n",
    "\n",
    "В OpenCV есть встроенный метод CLAHE коррекции (выравнивания) гистограмм.\n",
    "\n",
    "Посмотреть пособие по выравниванию гистограмм в OpenCV можно [здесь](https://docs.opencv.org/4.x/d5/daf/tutorial_py_histogram_equalization.html)\n",
    "\n",
    "Рассмотрим пример применения метода CLAHE (Contrast Limited Adaptive Histogram Equalization):"
   ],
   "metadata": {
    "collapsed": false
   }
  },
  {
   "cell_type": "code",
   "execution_count": null,
   "outputs": [],
   "source": [
    "clahe = cv.createCLAHE(clipLimit=2.0, tileGridSize=(8, 8))\n",
    "\n",
    "rgb_result_image = np.empty(np.shape(rgb_image1), np.uint8)\n",
    "rgb_result_image[:, :, 0] = clahe.apply(rgb_image1[:, :, 0])\n",
    "rgb_result_image[:, :, 1] = clahe.apply(rgb_image1[:, :, 1])\n",
    "rgb_result_image[:, :, 2] = clahe.apply(rgb_image1[:, :, 2])\n",
    "\n",
    "gs = plt.GridSpec(2, 2)\n",
    "plt.figure(figsize=(10, 8))\n",
    "plt.subplot(gs[0])\n",
    "plt.imshow(rgb_image1)\n",
    "plt.subplot(gs[1])\n",
    "plt.imshow(rgb_result_image)\n",
    "plt.subplot(gs[2])\n",
    "plot_rgb_hist(rgb_image1, histSize, range)\n",
    "plt.subplot(gs[3])\n",
    "plot_rgb_hist(rgb_result_image, histSize, range)\n",
    "\n",
    "plt.show()\n",
    "\n",
    "\n",
    "\n"
   ],
   "metadata": {
    "collapsed": false,
    "pycharm": {
     "name": "#%%\n"
    }
   }
  }
 ],
 "metadata": {
  "kernelspec": {
   "display_name": "Python 3",
   "language": "python",
   "name": "python3"
  },
  "language_info": {
   "codemirror_mode": {
    "name": "ipython",
    "version": 2
   },
   "file_extension": ".py",
   "mimetype": "text/x-python",
   "name": "python",
   "nbconvert_exporter": "python",
   "pygments_lexer": "ipython2",
   "version": "2.7.6"
  }
 },
 "nbformat": 4,
 "nbformat_minor": 0
}